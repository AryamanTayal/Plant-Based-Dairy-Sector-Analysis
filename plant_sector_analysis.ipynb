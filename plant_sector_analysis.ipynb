{
 "cells": [
  {
   "cell_type": "code",
   "execution_count": 45,
   "id": "d8458d0b-f851-4ac1-8f97-8705d151cee4",
   "metadata": {},
   "outputs": [],
   "source": [
    "from numpy.random import randn\n",
    "import numpy as np\n",
    "import os\n",
    "import matplotlib.pyplot as plt\n",
    "import pandas as pd\n",
    "import seaborn as sns\n",
    "plt.rc(\"figure\", figsize=(10, 6))\n",
    "np.set_printoptions(precision=4)\n",
    "pd.options.display.max_columns = 20\n",
    "pd.options.display.max_rows = 20\n",
    "pd.options.display.max_colwidth = 80"
   ]
  },
  {
   "cell_type": "markdown",
   "id": "ce1188fa-139b-4057-91de-cf2d6fdaaba3",
   "metadata": {},
   "source": [
    "### Reading in the datafile "
   ]
  },
  {
   "cell_type": "code",
   "execution_count": null,
   "id": "8c2a5c20-3d7b-4de2-90d8-9fb7074fb695",
   "metadata": {},
   "outputs": [],
   "source": [
    "df = pd.read_csv(\"C:/aryaman/coding/Dataset for Industry Intern Assignment - Plant-based Dairy - Plant-based dairy product launches.csv\")"
   ]
  },
  {
   "cell_type": "code",
   "execution_count": 28,
   "id": "d1c88a33-8c89-423a-b92e-d106604394ab",
   "metadata": {},
   "outputs": [],
   "source": [
    "df_new = df.drop( columns = [\"Manufactured by \"]) # Removing column with too few entries"
   ]
  },
  {
   "cell_type": "markdown",
   "id": "54b4935a-5ed6-4699-9bfa-ed6dde4ee59b",
   "metadata": {},
   "source": [
    "## Getting info on the data"
   ]
  },
  {
   "cell_type": "code",
   "execution_count": 30,
   "id": "b8c3a1b3-e968-4df1-8fea-1b0fa4765a17",
   "metadata": {},
   "outputs": [
    {
     "name": "stdout",
     "output_type": "stream",
     "text": [
      "<class 'pandas.core.frame.DataFrame'>\n",
      "RangeIndex: 151 entries, 0 to 150\n",
      "Data columns (total 13 columns):\n",
      " #   Column                                        Non-Null Count  Dtype  \n",
      "---  ------                                        --------------  -----  \n",
      " 0   Product Name                                  151 non-null    object \n",
      " 1   Brands                                        151 non-null    object \n",
      " 2   Sector                                        151 non-null    object \n",
      " 3   Animal product replicated                     151 non-null    object \n",
      " 4   Product Format                                151 non-null    object \n",
      " 5   Price (INR)                                   136 non-null    float64\n",
      " 6   Weight (Gms for meat and eggs, mL for dairy)  136 non-null    float64\n",
      " 7   Price Per kg/L                                136 non-null    float64\n",
      " 8   Shelf life                                    137 non-null    object \n",
      " 9   Storage Condtions                             97 non-null     object \n",
      " 10  Consumption Format                            33 non-null     object \n",
      " 11  Ingredient list                               129 non-null    object \n",
      " 12  Length of ingredient list                     137 non-null    float64\n",
      "dtypes: float64(4), object(9)\n",
      "memory usage: 15.5+ KB\n"
     ]
    }
   ],
   "source": [
    "df_new.info()"
   ]
  },
  {
   "cell_type": "markdown",
   "id": "94bc1e5f-437c-44ee-870e-f320f58acbfe",
   "metadata": {},
   "source": [
    "### Checking the first few entries"
   ]
  },
  {
   "cell_type": "code",
   "execution_count": 31,
   "id": "b066d538-89d2-436f-ad13-20878f3e0432",
   "metadata": {},
   "outputs": [
    {
     "data": {
      "text/html": [
       "<div>\n",
       "<style scoped>\n",
       "    .dataframe tbody tr th:only-of-type {\n",
       "        vertical-align: middle;\n",
       "    }\n",
       "\n",
       "    .dataframe tbody tr th {\n",
       "        vertical-align: top;\n",
       "    }\n",
       "\n",
       "    .dataframe thead th {\n",
       "        text-align: right;\n",
       "    }\n",
       "</style>\n",
       "<table border=\"1\" class=\"dataframe\">\n",
       "  <thead>\n",
       "    <tr style=\"text-align: right;\">\n",
       "      <th></th>\n",
       "      <th>Product Name</th>\n",
       "      <th>Brands</th>\n",
       "      <th>Sector</th>\n",
       "      <th>Animal product replicated</th>\n",
       "      <th>Product Format</th>\n",
       "      <th>Price (INR)</th>\n",
       "      <th>Weight (Gms for meat and eggs, mL for dairy)</th>\n",
       "      <th>Price Per kg/L</th>\n",
       "      <th>Shelf life</th>\n",
       "      <th>Storage Condtions</th>\n",
       "      <th>Consumption Format</th>\n",
       "      <th>Ingredient list</th>\n",
       "      <th>Length of ingredient list</th>\n",
       "    </tr>\n",
       "  </thead>\n",
       "  <tbody>\n",
       "    <tr>\n",
       "      <th>0</th>\n",
       "      <td>So Good Almond and Coconut</td>\n",
       "      <td>So Good</td>\n",
       "      <td>Plant- based dairy</td>\n",
       "      <td>Milk</td>\n",
       "      <td>Almond Milk</td>\n",
       "      <td>275.0</td>\n",
       "      <td>1000.0</td>\n",
       "      <td>275.0</td>\n",
       "      <td>12 Months</td>\n",
       "      <td>Ambient</td>\n",
       "      <td>NaN</td>\n",
       "      <td>Filtered water, almonds (2.5%), coconut cream (1%), mineral (calcium), emuls...</td>\n",
       "      <td>13.0</td>\n",
       "    </tr>\n",
       "    <tr>\n",
       "      <th>1</th>\n",
       "      <td>Sheese</td>\n",
       "      <td>Sheese</td>\n",
       "      <td>Plant- based dairy</td>\n",
       "      <td>Cheese</td>\n",
       "      <td>Cheese</td>\n",
       "      <td>NaN</td>\n",
       "      <td>NaN</td>\n",
       "      <td>NaN</td>\n",
       "      <td>NaN</td>\n",
       "      <td>NaN</td>\n",
       "      <td>NaN</td>\n",
       "      <td>NaN</td>\n",
       "      <td>NaN</td>\n",
       "    </tr>\n",
       "    <tr>\n",
       "      <th>2</th>\n",
       "      <td>White Cub Magic of Chocolate Icecream Dairy Free(500ml)</td>\n",
       "      <td>White Cub</td>\n",
       "      <td>Plant- based dairy</td>\n",
       "      <td>Icecream</td>\n",
       "      <td>Ice cream</td>\n",
       "      <td>150.0</td>\n",
       "      <td>200.0</td>\n",
       "      <td>750.0</td>\n",
       "      <td>6 months</td>\n",
       "      <td>Frozen</td>\n",
       "      <td>NaN</td>\n",
       "      <td>Soy mylk, Premium Cocoa powder, Coconut cream and sweetened with stevia</td>\n",
       "      <td>3.0</td>\n",
       "    </tr>\n",
       "    <tr>\n",
       "      <th>3</th>\n",
       "      <td>Epigamia almond milk, unsweetened</td>\n",
       "      <td>Epigamia</td>\n",
       "      <td>Plant- based dairy</td>\n",
       "      <td>Milk</td>\n",
       "      <td>Almond Milk</td>\n",
       "      <td>250.0</td>\n",
       "      <td>1000.0</td>\n",
       "      <td>250.0</td>\n",
       "      <td>6 Months</td>\n",
       "      <td>Ambient</td>\n",
       "      <td>Ready To Drink</td>\n",
       "      <td>Water, Almond, Emulsifier [INS 322 (i)], Stabilizer (INS 418), Tri Calcium P...</td>\n",
       "      <td>6.0</td>\n",
       "    </tr>\n",
       "    <tr>\n",
       "      <th>4</th>\n",
       "      <td>Sheese</td>\n",
       "      <td>Sheese</td>\n",
       "      <td>Plant- based dairy</td>\n",
       "      <td>Cheese</td>\n",
       "      <td>Cheese</td>\n",
       "      <td>NaN</td>\n",
       "      <td>NaN</td>\n",
       "      <td>NaN</td>\n",
       "      <td>NaN</td>\n",
       "      <td>NaN</td>\n",
       "      <td>NaN</td>\n",
       "      <td>NaN</td>\n",
       "      <td>NaN</td>\n",
       "    </tr>\n",
       "  </tbody>\n",
       "</table>\n",
       "</div>"
      ],
      "text/plain": [
       "                                              Product Name      Brands  \\\n",
       "0                               So Good Almond and Coconut    So Good    \n",
       "1                                                   Sheese      Sheese   \n",
       "2  White Cub Magic of Chocolate Icecream Dairy Free(500ml)  White Cub    \n",
       "3                        Epigamia almond milk, unsweetened    Epigamia   \n",
       "4                                                   Sheese      Sheese   \n",
       "\n",
       "                Sector Animal product replicated Product Format  Price (INR)  \\\n",
       "0  Plant- based dairy                       Milk    Almond Milk        275.0   \n",
       "1  Plant- based dairy                     Cheese         Cheese          NaN   \n",
       "2  Plant- based dairy                   Icecream      Ice cream        150.0   \n",
       "3  Plant- based dairy                       Milk    Almond Milk        250.0   \n",
       "4  Plant- based dairy                     Cheese         Cheese          NaN   \n",
       "\n",
       "   Weight (Gms for meat and eggs, mL for dairy)  Price Per kg/L Shelf life   \\\n",
       "0                                        1000.0           275.0  12 Months    \n",
       "1                                           NaN             NaN         NaN   \n",
       "2                                         200.0           750.0    6 months   \n",
       "3                                        1000.0           250.0   6 Months    \n",
       "4                                           NaN             NaN         NaN   \n",
       "\n",
       "  Storage Condtions Consumption Format   \\\n",
       "0           Ambient                 NaN   \n",
       "1               NaN                 NaN   \n",
       "2            Frozen                 NaN   \n",
       "3           Ambient      Ready To Drink   \n",
       "4               NaN                 NaN   \n",
       "\n",
       "                                                                   Ingredient list  \\\n",
       "0  Filtered water, almonds (2.5%), coconut cream (1%), mineral (calcium), emuls...   \n",
       "1                                                                              NaN   \n",
       "2          Soy mylk, Premium Cocoa powder, Coconut cream and sweetened with stevia   \n",
       "3  Water, Almond, Emulsifier [INS 322 (i)], Stabilizer (INS 418), Tri Calcium P...   \n",
       "4                                                                              NaN   \n",
       "\n",
       "   Length of ingredient list   \n",
       "0                        13.0  \n",
       "1                         NaN  \n",
       "2                         3.0  \n",
       "3                         6.0  \n",
       "4                         NaN  "
      ]
     },
     "execution_count": 31,
     "metadata": {},
     "output_type": "execute_result"
    }
   ],
   "source": [
    "df_new.head()"
   ]
  },
  {
   "cell_type": "markdown",
   "id": "9c7cd35d-c497-4f7e-a2ea-98961552cdf4",
   "metadata": {},
   "source": [
    "## Checking brand repetition"
   ]
  },
  {
   "cell_type": "code",
   "execution_count": 32,
   "id": "f0952e33-f8e3-43ad-8bcc-ea98db68d5a1",
   "metadata": {},
   "outputs": [
    {
     "data": {
      "text/plain": [
       "Brands\n",
       "Nomou          15\n",
       "White Cub      11\n",
       "One Good        7\n",
       "1Ness           7\n",
       "Katharos        6\n",
       "               ..\n",
       "Nurrish         1\n",
       "BVegan          1\n",
       "Milkin Oats     1\n",
       "MilkLab         1\n",
       "Oatey           1\n",
       "Length: 45, dtype: int64"
      ]
     },
     "execution_count": 32,
     "metadata": {},
     "output_type": "execute_result"
    }
   ],
   "source": [
    "brand_count = df_new.value_counts(\"Brands\")\n",
    "brand_count"
   ]
  },
  {
   "cell_type": "markdown",
   "id": "2282dd75-8b2f-43fe-b035-1ed450507622",
   "metadata": {},
   "source": [
    "Checking if a brand includes repeated product types (animal product replicates)"
   ]
  },
  {
   "cell_type": "code",
   "execution_count": 81,
   "id": "688e2ac3-fed7-485b-92c4-b97b9a2c7490",
   "metadata": {},
   "outputs": [
    {
     "data": {
      "text/html": [
       "<div>\n",
       "<style scoped>\n",
       "    .dataframe tbody tr th:only-of-type {\n",
       "        vertical-align: middle;\n",
       "    }\n",
       "\n",
       "    .dataframe tbody tr th {\n",
       "        vertical-align: top;\n",
       "    }\n",
       "\n",
       "    .dataframe thead th {\n",
       "        text-align: right;\n",
       "    }\n",
       "</style>\n",
       "<table border=\"1\" class=\"dataframe\">\n",
       "  <thead>\n",
       "    <tr style=\"text-align: right;\">\n",
       "      <th></th>\n",
       "      <th>Product Name</th>\n",
       "      <th>Brands</th>\n",
       "      <th>Sector</th>\n",
       "      <th>Animal product replicated</th>\n",
       "      <th>Product Format</th>\n",
       "      <th>Price (INR)</th>\n",
       "      <th>Weight (Gms for meat and eggs, mL for dairy)</th>\n",
       "      <th>Price Per kg/L</th>\n",
       "      <th>Shelf life</th>\n",
       "      <th>Storage Condtions</th>\n",
       "      <th>Consumption Format</th>\n",
       "      <th>Ingredient list</th>\n",
       "      <th>Length of ingredient list</th>\n",
       "    </tr>\n",
       "  </thead>\n",
       "  <tbody>\n",
       "    <tr>\n",
       "      <th>36</th>\n",
       "      <td>Nomou Plant Based Fig &amp; Walnut (SugarFree) Gelato</td>\n",
       "      <td>Nomou</td>\n",
       "      <td>Plant- based dairy</td>\n",
       "      <td>Icecream</td>\n",
       "      <td>Ice cream</td>\n",
       "      <td>525.0</td>\n",
       "      <td>500.0</td>\n",
       "      <td>1050.0</td>\n",
       "      <td>3 Months</td>\n",
       "      <td>Frozen</td>\n",
       "      <td>NaN</td>\n",
       "      <td>Coconut Milk, Coconut Cream, Fig, Walnut\\r\\n</td>\n",
       "      <td>4.0</td>\n",
       "    </tr>\n",
       "    <tr>\n",
       "      <th>45</th>\n",
       "      <td>Nomou Plant Based Fresh Mango Gelato</td>\n",
       "      <td>Nomou</td>\n",
       "      <td>Plant- based dairy</td>\n",
       "      <td>Icecream</td>\n",
       "      <td>Ice cream</td>\n",
       "      <td>525.0</td>\n",
       "      <td>500.0</td>\n",
       "      <td>1050.0</td>\n",
       "      <td>3 Months</td>\n",
       "      <td>Frozen</td>\n",
       "      <td>NaN</td>\n",
       "      <td>Coconut Milk, Coconut Cream, Palm Sugar, Fresh Alphonso Mangoe</td>\n",
       "      <td>4.0</td>\n",
       "    </tr>\n",
       "    <tr>\n",
       "      <th>47</th>\n",
       "      <td>Nomou Plant Based Nutella Gelato</td>\n",
       "      <td>Nomou</td>\n",
       "      <td>Plant- based dairy</td>\n",
       "      <td>Icecream</td>\n",
       "      <td>Ice cream</td>\n",
       "      <td>525.0</td>\n",
       "      <td>500.0</td>\n",
       "      <td>1050.0</td>\n",
       "      <td>3 Months</td>\n",
       "      <td>Frozen</td>\n",
       "      <td>NaN</td>\n",
       "      <td>Coconut Milk, Coconut Cream, Palm Sugar, Chocolate Hazelnut Spread\\r</td>\n",
       "      <td>4.0</td>\n",
       "    </tr>\n",
       "    <tr>\n",
       "      <th>53</th>\n",
       "      <td>Nomou Plant Based Fresh Strawberry Gelato</td>\n",
       "      <td>Nomou</td>\n",
       "      <td>Plant- based dairy</td>\n",
       "      <td>Icecream</td>\n",
       "      <td>Ice cream</td>\n",
       "      <td>525.0</td>\n",
       "      <td>500.0</td>\n",
       "      <td>1050.0</td>\n",
       "      <td>3 Months</td>\n",
       "      <td>Frozen</td>\n",
       "      <td>NaN</td>\n",
       "      <td>Coconut Milk, Coconut Cream, Palm Sugar, Fresh Strawberries.</td>\n",
       "      <td>4.0</td>\n",
       "    </tr>\n",
       "    <tr>\n",
       "      <th>55</th>\n",
       "      <td>Nomou Plant Based Paan Gelato</td>\n",
       "      <td>Nomou</td>\n",
       "      <td>Plant- based dairy</td>\n",
       "      <td>Icecream</td>\n",
       "      <td>Ice cream</td>\n",
       "      <td>525.0</td>\n",
       "      <td>500.0</td>\n",
       "      <td>1050.0</td>\n",
       "      <td>3 Months</td>\n",
       "      <td>Frozen</td>\n",
       "      <td>NaN</td>\n",
       "      <td>Coconut Milk, Coconut Cream, Palm Sugar, Paan Syrup, Paan Masala and Gulkand</td>\n",
       "      <td>5.0</td>\n",
       "    </tr>\n",
       "    <tr>\n",
       "      <th>63</th>\n",
       "      <td>Nomou Plant Based Saffron Pistachio Gelato</td>\n",
       "      <td>Nomou</td>\n",
       "      <td>Plant- based dairy</td>\n",
       "      <td>Icecream</td>\n",
       "      <td>Ice cream</td>\n",
       "      <td>525.0</td>\n",
       "      <td>500.0</td>\n",
       "      <td>1050.0</td>\n",
       "      <td>3 Months</td>\n",
       "      <td>Frozen</td>\n",
       "      <td>NaN</td>\n",
       "      <td>Soya Milk, Cashew, Palm Sugar, Saffron Extract, Pistachio</td>\n",
       "      <td>5.0</td>\n",
       "    </tr>\n",
       "    <tr>\n",
       "      <th>69</th>\n",
       "      <td>Nomou Plant Based Choco Almond Gelato</td>\n",
       "      <td>Nomou</td>\n",
       "      <td>Plant- based dairy</td>\n",
       "      <td>Icecream</td>\n",
       "      <td>Ice cream</td>\n",
       "      <td>525.0</td>\n",
       "      <td>500.0</td>\n",
       "      <td>1050.0</td>\n",
       "      <td>3 Months</td>\n",
       "      <td>Frozen</td>\n",
       "      <td>NaN</td>\n",
       "      <td>Coconut Milk, Coconut Cream, Palm Sugar, Cocoa Powder, Almonds</td>\n",
       "      <td>5.0</td>\n",
       "    </tr>\n",
       "    <tr>\n",
       "      <th>70</th>\n",
       "      <td>Nomou Plant Based Tender Coconut Gelato</td>\n",
       "      <td>Nomou</td>\n",
       "      <td>Plant- based dairy</td>\n",
       "      <td>Icecream</td>\n",
       "      <td>Ice cream</td>\n",
       "      <td>525.0</td>\n",
       "      <td>500.0</td>\n",
       "      <td>1050.0</td>\n",
       "      <td>3 Months</td>\n",
       "      <td>Frozen</td>\n",
       "      <td>NaN</td>\n",
       "      <td>Coconut Milk, Coconut Cream, Palm Sugar, Tender Coconut Meat</td>\n",
       "      <td>4.0</td>\n",
       "    </tr>\n",
       "    <tr>\n",
       "      <th>82</th>\n",
       "      <td>Nomou Plant Based Gelato Bourbon Vanilla</td>\n",
       "      <td>Nomou</td>\n",
       "      <td>Plant- based dairy</td>\n",
       "      <td>Icecream</td>\n",
       "      <td>Ice cream</td>\n",
       "      <td>525.0</td>\n",
       "      <td>500.0</td>\n",
       "      <td>1050.0</td>\n",
       "      <td>3 Months</td>\n",
       "      <td>Frozen</td>\n",
       "      <td>NaN</td>\n",
       "      <td>Soya Milk, Coconut Cream, Organic Raw Sugar, Vanilla Extract</td>\n",
       "      <td>4.0</td>\n",
       "    </tr>\n",
       "    <tr>\n",
       "      <th>84</th>\n",
       "      <td>Nomou Plant Based Lotus Biscoff Gelato</td>\n",
       "      <td>Nomou</td>\n",
       "      <td>Plant- based dairy</td>\n",
       "      <td>Icecream</td>\n",
       "      <td>Ice cream</td>\n",
       "      <td>525.0</td>\n",
       "      <td>500.0</td>\n",
       "      <td>1050.0</td>\n",
       "      <td>3 Months</td>\n",
       "      <td>Frozen</td>\n",
       "      <td>NaN</td>\n",
       "      <td>Coconut Milk, Coconut Cream, Palm Sugar, Lotus Biscoff Spread, Lotus Biscoff...</td>\n",
       "      <td>5.0</td>\n",
       "    </tr>\n",
       "    <tr>\n",
       "      <th>95</th>\n",
       "      <td>Nomou Plant Based Espresso Gelato</td>\n",
       "      <td>Nomou</td>\n",
       "      <td>Plant- based dairy</td>\n",
       "      <td>Icecream</td>\n",
       "      <td>Ice cream</td>\n",
       "      <td>525.0</td>\n",
       "      <td>500.0</td>\n",
       "      <td>1050.0</td>\n",
       "      <td>3 Months</td>\n",
       "      <td>Frozen</td>\n",
       "      <td>NaN</td>\n",
       "      <td>Coconut Milk, Coconut Cream, Palm Sugar, Coffee Powder</td>\n",
       "      <td>4.0</td>\n",
       "    </tr>\n",
       "    <tr>\n",
       "      <th>96</th>\n",
       "      <td>Nomou Plant Based Cacao Nibs Gelato</td>\n",
       "      <td>Nomou</td>\n",
       "      <td>Plant- based dairy</td>\n",
       "      <td>Icecream</td>\n",
       "      <td>Ice cream</td>\n",
       "      <td>525.0</td>\n",
       "      <td>500.0</td>\n",
       "      <td>1050.0</td>\n",
       "      <td>3 Months</td>\n",
       "      <td>Frozen</td>\n",
       "      <td>NaN</td>\n",
       "      <td>Coconut Milk, Coconut Cream, Palm Sugar, Cacao Powder, Cacao Nibs.</td>\n",
       "      <td>5.0</td>\n",
       "    </tr>\n",
       "    <tr>\n",
       "      <th>99</th>\n",
       "      <td>Nomou Plant Based Sea Salt Caramel Gelato</td>\n",
       "      <td>Nomou</td>\n",
       "      <td>Plant- based dairy</td>\n",
       "      <td>Icecream</td>\n",
       "      <td>Ice cream</td>\n",
       "      <td>525.0</td>\n",
       "      <td>500.0</td>\n",
       "      <td>1050.0</td>\n",
       "      <td>3 Months</td>\n",
       "      <td>Frozen</td>\n",
       "      <td>NaN</td>\n",
       "      <td>Coconut Milk, Coconut Cream, Palm Sugar, Vegan Caramel Sauce, Sea Salt.\\r</td>\n",
       "      <td>5.0</td>\n",
       "    </tr>\n",
       "    <tr>\n",
       "      <th>102</th>\n",
       "      <td>Nomou Plant Based Roasted Almond Gelato</td>\n",
       "      <td>Nomou</td>\n",
       "      <td>Plant- based dairy</td>\n",
       "      <td>Icecream</td>\n",
       "      <td>Ice cream</td>\n",
       "      <td>525.0</td>\n",
       "      <td>500.0</td>\n",
       "      <td>1050.0</td>\n",
       "      <td>3 Months</td>\n",
       "      <td>Frozen</td>\n",
       "      <td>NaN</td>\n",
       "      <td>Coconut Milk, Coconut Cream, Palm Sugar, Roasted Almond.\\r</td>\n",
       "      <td>4.0</td>\n",
       "    </tr>\n",
       "    <tr>\n",
       "      <th>109</th>\n",
       "      <td>Nomou Plant Based Black Sesame Gelato</td>\n",
       "      <td>Nomou</td>\n",
       "      <td>Plant- based dairy</td>\n",
       "      <td>Icecream</td>\n",
       "      <td>Ice cream</td>\n",
       "      <td>525.0</td>\n",
       "      <td>500.0</td>\n",
       "      <td>1050.0</td>\n",
       "      <td>3 Months</td>\n",
       "      <td>Frozen</td>\n",
       "      <td>NaN</td>\n",
       "      <td>Coconut Milk, Coconut Cream, Palm Sugar, Black Sesame Paste, Roasted Black S...</td>\n",
       "      <td>5.0</td>\n",
       "    </tr>\n",
       "  </tbody>\n",
       "</table>\n",
       "</div>"
      ],
      "text/plain": [
       "                                          Product Name Brands  \\\n",
       "36   Nomou Plant Based Fig & Walnut (SugarFree) Gelato  Nomou   \n",
       "45                Nomou Plant Based Fresh Mango Gelato  Nomou   \n",
       "47                    Nomou Plant Based Nutella Gelato  Nomou   \n",
       "53           Nomou Plant Based Fresh Strawberry Gelato  Nomou   \n",
       "55                       Nomou Plant Based Paan Gelato  Nomou   \n",
       "63          Nomou Plant Based Saffron Pistachio Gelato  Nomou   \n",
       "69               Nomou Plant Based Choco Almond Gelato  Nomou   \n",
       "70             Nomou Plant Based Tender Coconut Gelato  Nomou   \n",
       "82            Nomou Plant Based Gelato Bourbon Vanilla  Nomou   \n",
       "84              Nomou Plant Based Lotus Biscoff Gelato  Nomou   \n",
       "95                   Nomou Plant Based Espresso Gelato  Nomou   \n",
       "96                 Nomou Plant Based Cacao Nibs Gelato  Nomou   \n",
       "99           Nomou Plant Based Sea Salt Caramel Gelato  Nomou   \n",
       "102            Nomou Plant Based Roasted Almond Gelato  Nomou   \n",
       "109              Nomou Plant Based Black Sesame Gelato  Nomou   \n",
       "\n",
       "                  Sector Animal product replicated Product Format  \\\n",
       "36   Plant- based dairy                   Icecream      Ice cream   \n",
       "45   Plant- based dairy                   Icecream      Ice cream   \n",
       "47   Plant- based dairy                   Icecream      Ice cream   \n",
       "53   Plant- based dairy                   Icecream      Ice cream   \n",
       "55   Plant- based dairy                   Icecream      Ice cream   \n",
       "63   Plant- based dairy                   Icecream      Ice cream   \n",
       "69   Plant- based dairy                   Icecream      Ice cream   \n",
       "70   Plant- based dairy                   Icecream      Ice cream   \n",
       "82   Plant- based dairy                   Icecream      Ice cream   \n",
       "84   Plant- based dairy                   Icecream      Ice cream   \n",
       "95   Plant- based dairy                   Icecream      Ice cream   \n",
       "96   Plant- based dairy                   Icecream      Ice cream   \n",
       "99   Plant- based dairy                   Icecream      Ice cream   \n",
       "102  Plant- based dairy                   Icecream      Ice cream   \n",
       "109  Plant- based dairy                   Icecream      Ice cream   \n",
       "\n",
       "     Price (INR)  Weight (Gms for meat and eggs, mL for dairy)  \\\n",
       "36         525.0                                         500.0   \n",
       "45         525.0                                         500.0   \n",
       "47         525.0                                         500.0   \n",
       "53         525.0                                         500.0   \n",
       "55         525.0                                         500.0   \n",
       "63         525.0                                         500.0   \n",
       "69         525.0                                         500.0   \n",
       "70         525.0                                         500.0   \n",
       "82         525.0                                         500.0   \n",
       "84         525.0                                         500.0   \n",
       "95         525.0                                         500.0   \n",
       "96         525.0                                         500.0   \n",
       "99         525.0                                         500.0   \n",
       "102        525.0                                         500.0   \n",
       "109        525.0                                         500.0   \n",
       "\n",
       "     Price Per kg/L Shelf life  Storage Condtions Consumption Format   \\\n",
       "36           1050.0    3 Months            Frozen                 NaN   \n",
       "45           1050.0    3 Months            Frozen                 NaN   \n",
       "47           1050.0    3 Months            Frozen                 NaN   \n",
       "53           1050.0    3 Months            Frozen                 NaN   \n",
       "55           1050.0    3 Months            Frozen                 NaN   \n",
       "63           1050.0    3 Months            Frozen                 NaN   \n",
       "69           1050.0    3 Months            Frozen                 NaN   \n",
       "70           1050.0    3 Months            Frozen                 NaN   \n",
       "82           1050.0    3 Months            Frozen                 NaN   \n",
       "84           1050.0    3 Months            Frozen                 NaN   \n",
       "95           1050.0    3 Months            Frozen                 NaN   \n",
       "96           1050.0    3 Months            Frozen                 NaN   \n",
       "99           1050.0    3 Months            Frozen                 NaN   \n",
       "102          1050.0    3 Months            Frozen                 NaN   \n",
       "109          1050.0    3 Months            Frozen                 NaN   \n",
       "\n",
       "                                                                     Ingredient list  \\\n",
       "36                                      Coconut Milk, Coconut Cream, Fig, Walnut\\r\\n   \n",
       "45                    Coconut Milk, Coconut Cream, Palm Sugar, Fresh Alphonso Mangoe   \n",
       "47              Coconut Milk, Coconut Cream, Palm Sugar, Chocolate Hazelnut Spread\\r   \n",
       "53                      Coconut Milk, Coconut Cream, Palm Sugar, Fresh Strawberries.   \n",
       "55      Coconut Milk, Coconut Cream, Palm Sugar, Paan Syrup, Paan Masala and Gulkand   \n",
       "63                         Soya Milk, Cashew, Palm Sugar, Saffron Extract, Pistachio   \n",
       "69                    Coconut Milk, Coconut Cream, Palm Sugar, Cocoa Powder, Almonds   \n",
       "70                      Coconut Milk, Coconut Cream, Palm Sugar, Tender Coconut Meat   \n",
       "82                      Soya Milk, Coconut Cream, Organic Raw Sugar, Vanilla Extract   \n",
       "84   Coconut Milk, Coconut Cream, Palm Sugar, Lotus Biscoff Spread, Lotus Biscoff...   \n",
       "95                            Coconut Milk, Coconut Cream, Palm Sugar, Coffee Powder   \n",
       "96                Coconut Milk, Coconut Cream, Palm Sugar, Cacao Powder, Cacao Nibs.   \n",
       "99         Coconut Milk, Coconut Cream, Palm Sugar, Vegan Caramel Sauce, Sea Salt.\\r   \n",
       "102                       Coconut Milk, Coconut Cream, Palm Sugar, Roasted Almond.\\r   \n",
       "109  Coconut Milk, Coconut Cream, Palm Sugar, Black Sesame Paste, Roasted Black S...   \n",
       "\n",
       "     Length of ingredient list   \n",
       "36                          4.0  \n",
       "45                          4.0  \n",
       "47                          4.0  \n",
       "53                          4.0  \n",
       "55                          5.0  \n",
       "63                          5.0  \n",
       "69                          5.0  \n",
       "70                          4.0  \n",
       "82                          4.0  \n",
       "84                          5.0  \n",
       "95                          4.0  \n",
       "96                          5.0  \n",
       "99                          5.0  \n",
       "102                         4.0  \n",
       "109                         5.0  "
      ]
     },
     "execution_count": 81,
     "metadata": {},
     "output_type": "execute_result"
    }
   ],
   "source": [
    "brand_nomou = df_new[df_new[\"Brands\"] == \"Nomou\"]\n",
    "brand_nomou"
   ]
  },
  {
   "cell_type": "markdown",
   "id": "c0ccc642-670d-4ea3-adfe-e776527f6a3f",
   "metadata": {},
   "source": [
    "Nomou has 15 types of ice cream"
   ]
  },
  {
   "cell_type": "markdown",
   "id": "8ce27531-1593-4fed-9cee-131b6b2f824c",
   "metadata": {},
   "source": [
    "## What quantity of each animal product does a brand offeer"
   ]
  },
  {
   "cell_type": "code",
   "execution_count": 82,
   "id": "ca63bba3-2e9e-459b-8db5-6f89730ffac2",
   "metadata": {},
   "outputs": [
    {
     "data": {
      "text/html": [
       "<div>\n",
       "<style scoped>\n",
       "    .dataframe tbody tr th:only-of-type {\n",
       "        vertical-align: middle;\n",
       "    }\n",
       "\n",
       "    .dataframe tbody tr th {\n",
       "        vertical-align: top;\n",
       "    }\n",
       "\n",
       "    .dataframe thead th {\n",
       "        text-align: right;\n",
       "    }\n",
       "</style>\n",
       "<table border=\"1\" class=\"dataframe\">\n",
       "  <thead>\n",
       "    <tr style=\"text-align: right;\">\n",
       "      <th></th>\n",
       "      <th>Brands</th>\n",
       "      <th>Animal product replicated</th>\n",
       "      <th>counts</th>\n",
       "    </tr>\n",
       "  </thead>\n",
       "  <tbody>\n",
       "    <tr>\n",
       "      <th>0</th>\n",
       "      <td>1Ness</td>\n",
       "      <td>Butter</td>\n",
       "      <td>2</td>\n",
       "    </tr>\n",
       "    <tr>\n",
       "      <th>1</th>\n",
       "      <td>1Ness</td>\n",
       "      <td>Cheese</td>\n",
       "      <td>2</td>\n",
       "    </tr>\n",
       "    <tr>\n",
       "      <th>2</th>\n",
       "      <td>1Ness</td>\n",
       "      <td>Milk</td>\n",
       "      <td>2</td>\n",
       "    </tr>\n",
       "    <tr>\n",
       "      <th>3</th>\n",
       "      <td>1Ness</td>\n",
       "      <td>Yogurt</td>\n",
       "      <td>1</td>\n",
       "    </tr>\n",
       "    <tr>\n",
       "      <th>4</th>\n",
       "      <td>Alt Company</td>\n",
       "      <td>Milk</td>\n",
       "      <td>1</td>\n",
       "    </tr>\n",
       "    <tr>\n",
       "      <th>...</th>\n",
       "      <td>...</td>\n",
       "      <td>...</td>\n",
       "      <td>...</td>\n",
       "    </tr>\n",
       "    <tr>\n",
       "      <th>55</th>\n",
       "      <td>UFC Velvet</td>\n",
       "      <td>Milk</td>\n",
       "      <td>2</td>\n",
       "    </tr>\n",
       "    <tr>\n",
       "      <th>56</th>\n",
       "      <td>Urban Platter</td>\n",
       "      <td>Cheese</td>\n",
       "      <td>1</td>\n",
       "    </tr>\n",
       "    <tr>\n",
       "      <th>57</th>\n",
       "      <td>Urban Platter</td>\n",
       "      <td>Milk</td>\n",
       "      <td>2</td>\n",
       "    </tr>\n",
       "    <tr>\n",
       "      <th>58</th>\n",
       "      <td>White Cub</td>\n",
       "      <td>Curd</td>\n",
       "      <td>1</td>\n",
       "    </tr>\n",
       "    <tr>\n",
       "      <th>59</th>\n",
       "      <td>White Cub</td>\n",
       "      <td>Icecream</td>\n",
       "      <td>10</td>\n",
       "    </tr>\n",
       "  </tbody>\n",
       "</table>\n",
       "<p>60 rows × 3 columns</p>\n",
       "</div>"
      ],
      "text/plain": [
       "           Brands Animal product replicated  counts\n",
       "0           1Ness                    Butter       2\n",
       "1           1Ness                    Cheese       2\n",
       "2           1Ness                      Milk       2\n",
       "3           1Ness                    Yogurt       1\n",
       "4    Alt Company                       Milk       1\n",
       "..            ...                       ...     ...\n",
       "55    UFC Velvet                       Milk       2\n",
       "56  Urban Platter                    Cheese       1\n",
       "57  Urban Platter                      Milk       2\n",
       "58     White Cub                       Curd       1\n",
       "59     White Cub                   Icecream      10\n",
       "\n",
       "[60 rows x 3 columns]"
      ]
     },
     "execution_count": 82,
     "metadata": {},
     "output_type": "execute_result"
    }
   ],
   "source": [
    "brand_type_counts = df_new.groupby([\"Brands\", \"Animal product replicated\"]).size().reset_index(name = \"counts\") \n",
    "#grouping the brands and products to gain a count \n",
    "brand_type_counts                                                                                                    "
   ]
  },
  {
   "cell_type": "markdown",
   "id": "ea680922-3dfc-4fe2-a4c7-96e16a7b46c8",
   "metadata": {},
   "source": [
    "Most product offerings by a brand (based on aninmal product replicated)"
   ]
  },
  {
   "cell_type": "code",
   "execution_count": 89,
   "id": "d268f7fb-0ff7-46d1-a997-daba9d10855d",
   "metadata": {},
   "outputs": [
    {
     "data": {
      "text/plain": [
       "Brands\n",
       "One Good         5\n",
       "1Ness            4\n",
       "Plantaway        3\n",
       "Epigamia         2\n",
       "Urban Platter    2\n",
       "One Good         2\n",
       "Homecraft        2\n",
       "White Cub        2\n",
       "Drupe Power      2\n",
       "Silk             1\n",
       "Name: Animal product replicated, dtype: int64"
      ]
     },
     "execution_count": 89,
     "metadata": {},
     "output_type": "execute_result"
    }
   ],
   "source": [
    "brand_type_count = df.groupby(\"Brands\")[\"Animal product replicated\"].nunique().sort_values(ascending=False)\n",
    "brand_type_count"
   ]
  },
  {
   "cell_type": "code",
   "execution_count": 87,
   "id": "3f5a8985-8434-4626-83d9-a95c9bc16c68",
   "metadata": {},
   "outputs": [
    {
     "data": {
      "text/plain": [
       "9"
      ]
     },
     "execution_count": 87,
     "metadata": {},
     "output_type": "execute_result"
    }
   ],
   "source": [
    "#2 or more types\n",
    "two_and_more = (brand_type_count >= 2).sum()\n",
    "two_and_more"
   ]
  },
  {
   "cell_type": "markdown",
   "id": "28cf1ede-264d-41fc-a6eb-accb020d55f8",
   "metadata": {},
   "source": [
    "Only 9 brands have 2 or more distinct product offerings"
   ]
  },
  {
   "cell_type": "markdown",
   "id": "a6a64e6a-9e00-4b76-8a72-a9b90585c78b",
   "metadata": {},
   "source": [
    "### Getting top 5 brands (by number of distinct offerings) graph"
   ]
  },
  {
   "cell_type": "code",
   "execution_count": 70,
   "id": "179bf0b7-10ce-425c-b37d-545702cec63d",
   "metadata": {},
   "outputs": [
    {
     "name": "stderr",
     "output_type": "stream",
     "text": [
      "C:\\Users\\tayal\\AppData\\Local\\Temp\\ipykernel_20764\\834609737.py:4: FutureWarning: \n",
      "\n",
      "Passing `palette` without assigning `hue` is deprecated and will be removed in v0.14.0. Assign the `x` variable to `hue` and set `legend=False` for the same effect.\n",
      "\n",
      "  sns.barplot(x= top5.index, y=top5.values, palette='pastel')\n"
     ]
    },
    {
     "data": {
      "image/png": "[encoded data removed]",
      "text/plain": [
       "<Figure size 800x500 with 1 Axes>"
      ]
     },
     "metadata": {},
     "output_type": "display_data"
    }
   ],
   "source": [
    "top5 = brand_type_count.head(5)\n",
    "\n",
    "plt.figure(figsize=(8, 5))\n",
    "sns.barplot(x= top5.index, y=top5.values, palette='pastel')\n",
    "\n",
    "plt.title('Number of Distinct Product Types per Brand')\n",
    "plt.xlabel('Top 5 Brands')\n",
    "plt.ylabel('Distinct Product Types')\n",
    "plt.xticks(rotation=45)\n",
    "plt.tight_layout()\n",
    "plt.savefig(\"top5.png\", dpi = 300, bbox_inches = \"tight\")"
   ]
  },
  {
   "cell_type": "markdown",
   "id": "6ad151a9-4b41-46e1-9f56-8435c3f61ea6",
   "metadata": {},
   "source": [
    "One Good is the biggest brand in terms of number of distinct offerings"
   ]
  },
  {
   "cell_type": "code",
   "execution_count": 63,
   "id": "9b933dd9-fb13-4f69-b412-444a2ecd0f47",
   "metadata": {},
   "outputs": [
    {
     "data": {
      "text/plain": [
       "array(['Cheese', 'Milk', 'Mayonaisse', 'Paneer', 'Butter'], dtype=object)"
      ]
     },
     "execution_count": 63,
     "metadata": {},
     "output_type": "execute_result"
    }
   ],
   "source": [
    "df_new[df[\"Brands\"] == \"One Good\"][\"Animal product replicated\"].unique()"
   ]
  },
  {
   "cell_type": "markdown",
   "id": "cfdc68bb-754b-45ab-8d65-64f9d88d244d",
   "metadata": {},
   "source": [
    "...  "
   ]
  },
  {
   "cell_type": "markdown",
   "id": "1e3a95c3-dcbf-409b-a3aa-360bc6b70bc4",
   "metadata": {},
   "source": [
    "\n",
    "\n",
    "## Checking product types and plotting a pie chart"
   ]
  },
  {
   "cell_type": "code",
   "execution_count": 36,
   "id": "d7aac4bb-281a-4e14-a20b-427a95dfdf0d",
   "metadata": {},
   "outputs": [
    {
     "data": {
      "text/plain": [
       "Animal product replicated\n",
       "Milk          66\n",
       "Icecream      46\n",
       "Cheese        26\n",
       "Butter         7\n",
       "Yogurt         2\n",
       "Curd           1\n",
       "Ghee           1\n",
       "Mayonaisse     1\n",
       "Paneer         1\n",
       "dtype: int64"
      ]
     },
     "execution_count": 36,
     "metadata": {},
     "output_type": "execute_result"
    }
   ],
   "source": [
    "type_count = df_new.value_counts(\"Animal product replicated\")\n",
    "type_count"
   ]
  },
  {
   "cell_type": "code",
   "execution_count": 64,
   "id": "6ea4daf1-f600-44d5-afa7-19c844cc2d5d",
   "metadata": {},
   "outputs": [
    {
     "data": {
      "image/png": "[encoded data removed]",
      "text/plain": [
       "<Figure size 1000x600 with 1 Axes>"
      ]
     },
     "metadata": {},
     "output_type": "display_data"
    }
   ],
   "source": [
    "def autopct_format(pct):\n",
    "    return f'{pct:.1f}%' if pct >= 5 else ''  # To avoid overlapping numbers\n",
    "\n",
    "fig, ax = plt.subplots()\n",
    "type_count.plot.pie(\n",
    "    ax=ax,\n",
    "    labels=None,\n",
    "    autopct=autopct_format,\n",
    "    startangle=90,\n",
    "    counterclock=False,\n",
    "    shadow=False,\n",
    "    wedgeprops={'linewidth': 1, 'edgecolor': 'white'} \n",
    ")\n",
    "\n",
    "ax.set_ylabel(\"\")\n",
    "ax.set_title(\"Product Type Distribution\", fontsize=12)\n",
    "plt.legend(\n",
    "    type_count.index,\n",
    "    title=\"Type\",\n",
    "    loc=\"center left\",\n",
    "    bbox_to_anchor=(1, 0.5),\n",
    "    fontsize=10,\n",
    "    title_fontsize=11\n",
    ")\n",
    "plt.tight_layout()\n",
    "plt.savefig(\"pie_chart.png\", dpi=300, bbox_inches='tight')"
   ]
  },
  {
   "cell_type": "markdown",
   "id": "7af49619-4b17-4cee-90d6-694f819e04df",
   "metadata": {},
   "source": [
    "Plotting a horizontal bar for the same"
   ]
  },
  {
   "cell_type": "code",
   "execution_count": 43,
   "id": "4b16de8d-16ef-4948-94e6-4942cc926ad0",
   "metadata": {},
   "outputs": [
    {
     "data": {
      "image/png": "[encoded data removed]",
      "text/plain": [
       "<Figure size 1000x600 with 1 Axes>"
      ]
     },
     "metadata": {},
     "output_type": "display_data"
    }
   ],
   "source": [
    "type_count.plot.barh(color=\"skyblue\")\n",
    "plt.xlabel(\"Number of Products\")\n",
    "plt.title(\"Distribution of Product Types\")\n",
    "plt.tight_layout()\n",
    "plt.show()"
   ]
  },
  {
   "cell_type": "markdown",
   "id": "5cc4bdb8-6541-4478-b082-42465f3977bc",
   "metadata": {},
   "source": [
    "Milk is the most popoular product followed by Icecream in the plant-based dairy sector"
   ]
  },
  {
   "cell_type": "markdown",
   "id": "8a2e0e08-70b6-4faf-acbf-8ee59bfe56d9",
   "metadata": {},
   "source": [
    "## Getting avg price in each category"
   ]
  },
  {
   "cell_type": "code",
   "execution_count": 79,
   "id": "15ee1f10-3769-4943-a424-bb9fa5ac950a",
   "metadata": {},
   "outputs": [
    {
     "data": {
      "image/png": "[encoded data removed]",
      "text/plain": [
       "<Figure size 800x500 with 1 Axes>"
      ]
     },
     "metadata": {},
     "output_type": "display_data"
    }
   ],
   "source": [
    "plt.figure(figsize=(8, 5))\n",
    "sns.set(style=\"whitegrid\")\n",
    "\n",
    "# Horizontal bar plot. It plots mean price with 95% confidence interval\n",
    "sns.barplot(\n",
    "    data=df_new,\n",
    "    y=\"Animal product replicated\",          \n",
    "    x=\"Price Per kg/L\",                 \n",
    "    errorbar=\"ci\"      \n",
    ")\n",
    "\n",
    "plt.title(\"Average Product Price by Type \")\n",
    "plt.xlabel(\"Average Price Per kg/L\")\n",
    "plt.ylabel(\"Animal Product Replicated\")\n",
    "plt.tight_layout()\n",
    "plt.savefig(\"avg_price.png\", dpi=300, bbox_inches='tight')"
   ]
  },
  {
   "cell_type": "markdown",
   "id": "afda576d-d5b8-4a9e-8dba-2f3a2f23ca64",
   "metadata": {},
   "source": [
    "Cheese is the most expensive product, followed by Paneer and Butter. Butter has the highest standard deviation in prices"
   ]
  },
  {
   "cell_type": "markdown",
   "id": "6ff3a559-962a-463e-bc18-6fc99c2983c1",
   "metadata": {},
   "source": [
    "## Obtaining the max and min price under each product category"
   ]
  },
  {
   "cell_type": "code",
   "execution_count": 80,
   "id": "a62a9cbf-c6a1-4646-8252-d7de8c16169f",
   "metadata": {},
   "outputs": [
    {
     "name": "stdout",
     "output_type": "stream",
     "text": [
      "  Animal product replicated    Max Brand  Max Price Per kg/L   Min Brand  \\\n",
      "0                    Butter  Drupe Power              2375.0    One Good   \n",
      "1                    Cheese     Softspot              2800.0    One Good   \n",
      "2                      Curd   White Cub                180.0  White Cub    \n",
      "3                  Icecream     Minus 30              2600.0  White Cub    \n",
      "4                Mayonaisse     One Good               596.0    One Good   \n",
      "5                      Milk        Sain                895.0      BVegan   \n",
      "6                    Paneer     One Good              1495.0    One Good   \n",
      "7                    Yogurt        1Ness               425.0       1Ness   \n",
      "\n",
      "   Min Price Per kg/L  \n",
      "0               700.0  \n",
      "1               334.0  \n",
      "2               180.0  \n",
      "3               300.0  \n",
      "4               596.0  \n",
      "5               110.0  \n",
      "6              1495.0  \n",
      "7               425.0  \n"
     ]
    }
   ],
   "source": [
    "# Clean missing data\n",
    "df_clean = df_new.dropna(subset=['Price Per kg/L', 'Animal product replicated'])\n",
    "\n",
    "# Get index of max and min price per product type\n",
    "idx_max = df_clean.groupby('Animal product replicated')['Price Per kg/L'].idxmax()\n",
    "idx_min = df_clean.groupby('Animal product replicated')['Price Per kg/L'].idxmin()\n",
    "\n",
    "# Getting only the relevant rows\n",
    "max_prices = df_clean.loc[idx_max][['Animal product replicated', 'Brands', 'Price Per kg/L']]\n",
    "min_prices = df_clean.loc[idx_min][['Animal product replicated', 'Brands', 'Price Per kg/L']]\n",
    "\n",
    "# Rename columns for clarity. Passing a dictionary to rename columns\n",
    "max_prices = max_prices.rename(columns={\n",
    "    'Brands': 'Max Brand',\n",
    "    'Price Per kg/L': 'Max Price Per kg/L'\n",
    "})\n",
    "min_prices = min_prices.rename(columns={\n",
    "    'Brands': 'Min Brand',\n",
    "    'Price Per kg/L': 'Min Price Per kg/L'\n",
    "})\n",
    "\n",
    "# Merging both on the product replicated column\n",
    "price_summary = pd.merge(max_prices, min_prices, on='Animal product replicated')\n",
    "\n",
    "print(price_summary)\n",
    "\n"
   ]
  },
  {
   "cell_type": "markdown",
   "id": "d753969b-f248-42ad-aba5-9805bf1032cc",
   "metadata": {},
   "source": [
    "Getting graph of this to compare max and min prices in each category"
   ]
  },
  {
   "cell_type": "code",
   "execution_count": 78,
   "id": "cf2f284d-64eb-4531-9849-fad9ef27eee4",
   "metadata": {},
   "outputs": [
    {
     "data": {
      "image/png": "[encoded data removed]",
      "text/plain": [
       "<Figure size 1000x600 with 1 Axes>"
      ]
     },
     "metadata": {},
     "output_type": "display_data"
    }
   ],
   "source": [
    "price_summary_sorted = price_summary.sort_values(by=\"Max Price Per kg/L\", ascending=True)\n",
    "\n",
    "# Setup positions\n",
    "y_pos = np.arange(len(price_summary_sorted))\n",
    "\n",
    "# Bar chart\n",
    "fig, ax = plt.subplots(figsize=(10, 6))\n",
    "\n",
    "# Plot max and min prices\n",
    "ax.barh(y_pos + 0.2, price_summary_sorted['Max Price Per kg/L'], height=0.4, label='Max Price', color='salmon')\n",
    "ax.barh(y_pos - 0.2, price_summary_sorted['Min Price Per kg/L'], height=0.4, label='Min Price', color='skyblue')\n",
    "\n",
    "# Annotate brand names on the bars\n",
    "for i, (max_brand, max_price, min_brand, min_price) in enumerate(zip(\n",
    "    price_summary_sorted['Max Brand'],\n",
    "    price_summary_sorted['Max Price Per kg/L'],\n",
    "    price_summary_sorted['Min Brand'],\n",
    "    price_summary_sorted['Min Price Per kg/L'])):\n",
    "    \n",
    "    ax.text(max_price + 0.2, y_pos[i] + 0.2, max_brand, va='center', fontsize=8, color='black')\n",
    "    ax.text(min_price + 0.2, y_pos[i] - 0.2, min_brand, va='center', fontsize=8, color='black')\n",
    "\n",
    "# Y-axis labels\n",
    "ax.set_yticks(y_pos)\n",
    "ax.set_yticklabels(price_summary_sorted['Animal product replicated'])\n",
    "\n",
    "# Labels and legend\n",
    "ax.set_xlabel('Price Per kg/L')\n",
    "ax.set_title('Max and Min Price Per kg/L by Animal Product Replicated')\n",
    "ax.legend()\n",
    "\n",
    "plt.tight_layout()\n",
    "plt.savefig(\"price_graph\", dpi = 300, bbox_inches = 'tight')\n",
    "plt.show()\n"
   ]
  }
 ],
 "metadata": {
  "kernelspec": {
   "display_name": "Python 3 (ipykernel)",
   "language": "python",
   "name": "python3"
  },
  "language_info": {
   "codemirror_mode": {
    "name": "ipython",
    "version": 3
   },
   "file_extension": ".py",
   "mimetype": "text/x-python",
   "name": "python",
   "nbconvert_exporter": "python",
   "pygments_lexer": "ipython3",
   "version": "3.9.18"
  }
 },
 "nbformat": 4,
 "nbformat_minor": 5
}
